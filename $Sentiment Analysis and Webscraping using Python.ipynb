   {
 "cells": [
  {
   "cell_type": "code",
   "execution_count": 371,
   "metadata": {},
   "outputs": [],
   "source": [
    "#importing the necessary libraries\n",
    "import csv\n",
    "from bs4 import BeautifulSoup\n",
    "import time\n",
    "from selenium import webdriver\n",
    "\n",
    "driver = webdriver.Chrome()\n",
    "\n",
    "#creating a function to take in the search term and spit out the search url\n",
    "\n",
    "def get_url(search_term):\n",
    "    template = 'https://www.amazon.in/s?k={}&ref=nb_sb_noss_1'\n",
    "    search_term = search_term.replace(' ', '+')\n",
    "    url = template.format(search_term)\n",
    "    url += '&page{}'\n",
    "    return url\n",
    "\n",
    "#extracting/scraping the necessary details from the item's amazon page. \n",
    "\n",
    "def extract_record(item):\n",
    "    atag = item.h2.a\n",
    "    description = atag.text.strip()\n",
    "    url = 'https://www.amazon.in' + atag.get('href')\n",
    "    \n",
    "    result = (description, url)   \n",
    "        \n",
    "\n",
    "    return result\n",
    "\n",
    "\n",
    "#In this section of code the the previous two routines are implemented to scrape the 'the individual page url'\n",
    "#of each smartphone in every page and create a csv list finally of all the smartphones urls.  \n",
    "\n",
    "def main(search_term):\n",
    "    \n",
    "    driver = webdriver.Chrome()\n",
    "    \n",
    "    records = []\n",
    "    url = get_url(search_term)\n",
    "    \n",
    "    for page in range(1,21):\n",
    "        driver.get(url.format(page))\n",
    "        soup = BeautifulSoup(driver.page_source, 'html.parser')\n",
    "        results = soup.find_all('div',{'data-component-type': 's-search-result'})\n",
    "        \n",
    "        for item in results:\n",
    "            \n",
    "            record = extract_record(item)\n",
    "            if record: \n",
    "                    records.append(record)\n",
    "                    \n",
    "    driver.close()\n",
    "    \n",
    "    with open('smartphone_list.csv','w',newline='', encoding='utf-8') as f:\n",
    "        writer = csv.writer(f)\n",
    "        writer.writerow(['description','url'])\n",
    "        writer.writerows(records)\n",
    "        \n",
    "        \n",
    "    \n",
    "    \n",
    "\n"
   ]
  },
  {
   "cell_type": "code",
   "execution_count": 372,
   "metadata": {},
   "outputs": [],
   "source": [
    "main('smartphone')"
   ]
  },
  {
   "cell_type": "code",
   "execution_count": 453,
   "metadata": {},
   "outputs": [],
   "source": [
    "import numpy as np \n",
    "import pandas as pd \n",
    "import time\n",
    "from selenium import webdriver #essentially a 'url requesting' tool for chrome browser\n",
    "import requests #the more generally used for the same purpose\n",
    "from bs4 import BeautifulSoup #parses the html and css source behind any webpage and presents in a more organized structure\n",
    "from urllib.request import urlopen # another 'url accessing' tool. \n",
    "import csv # for working with csv\n",
    "\n",
    "driver = webdriver.Chrome()"
   ]
  },
  {
   "cell_type": "code",
   "execution_count": 454,
   "metadata": {},
   "outputs": [],
   "source": [
    "smartphone_list = pd.read_csv('smartphone_list.csv')"
   ]
  },
  {
   "cell_type": "code",
   "execution_count": 455,
   "metadata": {},
   "outputs": [],
   "source": [
    "#smartphone_list = np.array(smartphone_list)"
   ]
  },
  {
   "cell_type": "code",
   "execution_count": 456,
   "metadata": {},
   "outputs": [
    {
     "data": {
      "text/html": [
       "<div>\n",
       "<style scoped>\n",
       "    .dataframe tbody tr th:only-of-type {\n",
       "        vertical-align: middle;\n",
       "    }\n",
       "\n",
       "    .dataframe tbody tr th {\n",
       "        vertical-align: top;\n",
       "    }\n",
       "\n",
       "    .dataframe thead th {\n",
       "        text-align: right;\n",
       "    }\n",
       "</style>\n",
       "<table border=\"1\" class=\"dataframe\">\n",
       "  <thead>\n",
       "    <tr style=\"text-align: right;\">\n",
       "      <th></th>\n",
       "      <th>description</th>\n",
       "      <th>url</th>\n",
       "    </tr>\n",
       "  </thead>\n",
       "  <tbody>\n",
       "    <tr>\n",
       "      <th>0</th>\n",
       "      <td>Apple iPhone 11 (128GB) - White (Includes EarP...</td>\n",
       "      <td>https://www.amazon.in/gp/slredirect/picassoRed...</td>\n",
       "    </tr>\n",
       "    <tr>\n",
       "      <th>1</th>\n",
       "      <td>Apple iPhone 7 (32GB) - Black</td>\n",
       "      <td>https://www.amazon.in/gp/slredirect/picassoRed...</td>\n",
       "    </tr>\n",
       "    <tr>\n",
       "      <th>2</th>\n",
       "      <td>Redmi 8A Dual (Sea Blue, 2GB RAM, 32GB Storage...</td>\n",
       "      <td>https://www.amazon.in/Redmi-8A-Dual-Blue-Stora...</td>\n",
       "    </tr>\n",
       "    <tr>\n",
       "      <th>3</th>\n",
       "      <td>Samsung Galaxy M01 (Black, 3GB RAM, 32GB Stora...</td>\n",
       "      <td>https://www.amazon.in/Samsung-Galaxy-Storage-A...</td>\n",
       "    </tr>\n",
       "    <tr>\n",
       "      <th>4</th>\n",
       "      <td>Samsung Galaxy M01 Core (Black, 2GB RAM, 32GB ...</td>\n",
       "      <td>https://www.amazon.in/Samsung-Galaxy-Storage-A...</td>\n",
       "    </tr>\n",
       "    <tr>\n",
       "      <th>...</th>\n",
       "      <td>...</td>\n",
       "      <td>...</td>\n",
       "    </tr>\n",
       "    <tr>\n",
       "      <th>413</th>\n",
       "      <td>Redmi Note 9 Pro (Interstellar Black, 4GB RAM,...</td>\n",
       "      <td>https://www.amazon.in/Test-Exclusive-549/dp/B0...</td>\n",
       "    </tr>\n",
       "    <tr>\n",
       "      <th>414</th>\n",
       "      <td>Samsung Galaxy M01 Core (Blue, 1GB RAM, 16GB S...</td>\n",
       "      <td>https://www.amazon.in/Samsung-Galaxy-Storage-A...</td>\n",
       "    </tr>\n",
       "    <tr>\n",
       "      <th>415</th>\n",
       "      <td>Vivo Y91i (Ocean Blue, 2GB RAM, 32GB Storage) ...</td>\n",
       "      <td>https://www.amazon.in/Vivo-Storage-Additional-...</td>\n",
       "    </tr>\n",
       "    <tr>\n",
       "      <th>416</th>\n",
       "      <td>TECNO Spark 6 Air (Comet Black, 3GB RAM, 64GB ...</td>\n",
       "      <td>https://www.amazon.in/gp/slredirect/picassoRed...</td>\n",
       "    </tr>\n",
       "    <tr>\n",
       "      <th>417</th>\n",
       "      <td>OPPO A12 (Blue, 4GB RAM, 64GB Storage) with No...</td>\n",
       "      <td>https://www.amazon.in/gp/slredirect/picassoRed...</td>\n",
       "    </tr>\n",
       "  </tbody>\n",
       "</table>\n",
       "<p>418 rows × 2 columns</p>\n",
       "</div>"
      ],
      "text/plain": [
       "                                           description  \\\n",
       "0    Apple iPhone 11 (128GB) - White (Includes EarP...   \n",
       "1                        Apple iPhone 7 (32GB) - Black   \n",
       "2    Redmi 8A Dual (Sea Blue, 2GB RAM, 32GB Storage...   \n",
       "3    Samsung Galaxy M01 (Black, 3GB RAM, 32GB Stora...   \n",
       "4    Samsung Galaxy M01 Core (Black, 2GB RAM, 32GB ...   \n",
       "..                                                 ...   \n",
       "413  Redmi Note 9 Pro (Interstellar Black, 4GB RAM,...   \n",
       "414  Samsung Galaxy M01 Core (Blue, 1GB RAM, 16GB S...   \n",
       "415  Vivo Y91i (Ocean Blue, 2GB RAM, 32GB Storage) ...   \n",
       "416  TECNO Spark 6 Air (Comet Black, 3GB RAM, 64GB ...   \n",
       "417  OPPO A12 (Blue, 4GB RAM, 64GB Storage) with No...   \n",
       "\n",
       "                                                   url  \n",
       "0    https://www.amazon.in/gp/slredirect/picassoRed...  \n",
       "1    https://www.amazon.in/gp/slredirect/picassoRed...  \n",
       "2    https://www.amazon.in/Redmi-8A-Dual-Blue-Stora...  \n",
       "3    https://www.amazon.in/Samsung-Galaxy-Storage-A...  \n",
       "4    https://www.amazon.in/Samsung-Galaxy-Storage-A...  \n",
       "..                                                 ...  \n",
       "413  https://www.amazon.in/Test-Exclusive-549/dp/B0...  \n",
       "414  https://www.amazon.in/Samsung-Galaxy-Storage-A...  \n",
       "415  https://www.amazon.in/Vivo-Storage-Additional-...  \n",
       "416  https://www.amazon.in/gp/slredirect/picassoRed...  \n",
       "417  https://www.amazon.in/gp/slredirect/picassoRed...  \n",
       "\n",
       "[418 rows x 2 columns]"
      ]
     },
     "execution_count": 456,
     "metadata": {},
     "output_type": "execute_result"
    }
   ],
   "source": [
    "smartphone_list"
   ]
  },
  {
   "cell_type": "code",
   "execution_count": 457,
   "metadata": {},
   "outputs": [],
   "source": [
    "url_list= smartphone_list['url'].tolist()[0:1]\n",
    "item_list= smartphone_list['description'].tolist()[0:1]"
   ]
  },
  {
   "cell_type": "code",
   "execution_count": 458,
   "metadata": {},
   "outputs": [
    {
     "data": {
      "text/plain": [
       "['Apple iPhone 11 (128GB) - White (Includes EarPods, Power Adapter)']"
      ]
     },
     "execution_count": 458,
     "metadata": {},
     "output_type": "execute_result"
    }
   ],
   "source": [
    "url_list\n",
    "item_list\n"
   ]
  },
  {
   "cell_type": "code",
   "execution_count": 467,
   "metadata": {},
   "outputs": [],
   "source": [
    "#in this section a routine has been written to extract first few reviews of the smartphone with the url fed in the argument. \n",
    "\n",
    "# it is to note that different classes work to get the description in pages of different products and therefore it was entirely \n",
    "#difficult to extracts reviews of even more than one. I am figuring it out. \n",
    "\n",
    "review_list = [] \n",
    "def extract_review(url):\n",
    "    \n",
    "    \n",
    "    driver.get(url)\n",
    "    soup = BeautifulSoup(driver.page_source,'html.parser')\n",
    "    results = soup.find_all('div',{\"data-hook\":\"review-collapsed\"})\n",
    "    \n",
    "    for r in results:\n",
    "        \n",
    "        \n",
    "        review_list.append(r.text.strip().strip(\"\\n\"))\n",
    "    \n",
    "    with open('testtext.csv','w',newline='', encoding='utf-8') as f:\n",
    "        writer = csv.writer(f)\n",
    "        writer.writerows(review_list)\n",
    "        \n",
    "    \n",
    "    \n",
    "    \n",
    "    driver.close()  \n",
    "    \n",
    "     \n",
    "        \n",
    "\n",
    "    \n",
    "    \n",
    "    "
   ]
  },
  {
   "cell_type": "code",
   "execution_count": 468,
   "metadata": {},
   "outputs": [],
   "source": [
    "extract_review(url_list[0])"
   ]
  },
  {
   "cell_type": "code",
   "execution_count": 474,
   "metadata": {},
   "outputs": [],
   "source": [
    "review_list = np.array(review_list).tolist()"
   ]
  },
  {
   "cell_type": "code",
   "execution_count": 476,
   "metadata": {},
   "outputs": [
    {
     "data": {
      "text/plain": [
       "\"May be my first negative review about the product & Amazon both. I was much elated to receive the iPhone 11 so fast, next day of dispatch i.e. 28/09/19, but the thing I got started heating up every now and then. Contacted Applecare, just to be consoled that it's quite normal. As it continued, tried to return the product by speaking to Amazon customer support but in vain. Some body called me back to convey that only Apple will decide which one to take back. Why is then Amazon took up the sacred duty of selling such an item which they can't exchange/ have no control ? The product developed new issues like proximity sensor malfunction and last but most importantly loosing mobile network every other minute(even had two software updates). It was handed over to the Apple ASP as the return window closed on 10/10/19 (what use it was for??) and diagnosed as having issues and has further been sent to Apple repair facility at Bengaluru. So I'm here w/out my first iPhone after using it(suffering for??) just a little over 2 weeks and the CREDIT GOES TO AMAZON !! Bravo, keep it up Amazon.\""
      ]
     },
     "execution_count": 476,
     "metadata": {},
     "output_type": "execute_result"
    }
   ],
   "source": [
    "review_list[0]"
   ]
  },
  {
   "cell_type": "code",
   "execution_count": 470,
   "metadata": {},
   "outputs": [],
   "source": [
    "#beginning of the sentimental analysis "
   ]
  },
  {
   "cell_type": "code",
   "execution_count": 510,
   "metadata": {},
   "outputs": [],
   "source": [
    "import pandas as pd\n",
    "import numpy as np\n",
    "import matplotlib.pyplot as plt\n",
    "import seaborn as sns\n",
    "from array import *\n",
    "import csv\n",
    "\n",
    "#training text_data and label_data provisioned by a company I was trying to intern at, as resource for training a model for \n",
    "#sentimental analysis. \n",
    "\n",
    "label_data = pd.read_csv('label_data.csv')\n",
    "label_data = label_data.iloc[:,[1]]\n",
    "text_data = pd.read_csv('text_data.csv')\n",
    "text_data = text_data.iloc[:,[1]]\n",
    "text_text_data = review_list\n",
    "    \n",
    "\n",
    "#converting the label to a pure list\n",
    "label_data = np.array(label_data)\n",
    "new_lab = []\n",
    "for i in range(0,len(label_data)):\n",
    "    new_lab.append(int(label_data[i]))\n",
    "#converting the text to a pure list\n",
    "\n",
    "new_tex =[]\n",
    "new_tex = text_data[\"sentence\"].tolist()"
   ]
  },
  {
   "cell_type": "code",
   "execution_count": 511,
   "metadata": {},
   "outputs": [],
   "source": [
    "train_labels = new_lab[0:11550]\n",
    "train_texts = new_tex[0:11550]\n",
    "\n",
    "test_labels = new_lab[11550:]\n",
    "test_texts = new_tex[11550:]"
   ]
  },
  {
   "cell_type": "code",
   "execution_count": 512,
   "metadata": {},
   "outputs": [],
   "source": [
    "import re\n",
    "NON_ALPHANUM = re.compile(r'[\\W]') #this bit filters out all the special characters not essential for accuracy. \n",
    "NON_ASCII = re.compile(r'[^a-z0-1\\s]') \n",
    "def normalize_texts(texts):\n",
    "    normalized_texts = []\n",
    "    for text in texts:\n",
    "        lower = text.lower()\n",
    "        no_punctuation = NON_ALPHANUM.sub(r' ', lower) #strips commas, fullstops.etc\n",
    "        no_non_ascii = NON_ASCII.sub(r'', no_punctuation)\n",
    "        normalized_texts.append(no_non_ascii)\n",
    "    return normalized_texts \n",
    "        \n",
    "train_texts = normalize_texts(train_texts) #a purely textual output. \n",
    "test_texts = normalize_texts(test_texts)\n",
    "review_list = normalize_texts(review_list)"
   ]
  },
  {
   "cell_type": "code",
   "execution_count": 513,
   "metadata": {},
   "outputs": [
    {
     "data": {
      "text/plain": [
       "['may be my first negative review about the product   amazon both  i was much elated to receive the iphone 11 so fast  next day of dispatch i e   0 1  but the thing i got started heating up every now and then  contacted applecare  just to be consoled that it s quite normal  as it continued  tried to return the product by speaking to amazon customer support but in vain  some body called me back to convey that only apple will decide which one to take back  why is then amazon took up the sacred duty of selling such an item which they can t exchange  have no control   the product developed new issues like proximity sensor malfunction and last but most importantly loosing mobile network every other minute even had two software updates   it was handed over to the apple asp as the return window closed on 10 10 1  what use it was for    and diagnosed as having issues and has further been sent to apple repair facility at bengaluru  so i m here w out my first iphone after using it suffering for    just a little over  weeks and the credit goes to amazon    bravo  keep it up amazon ',\n",
       " 'please do not buy expensive product like iphone from amazon  i had very bad exp  the charger cord was missing and had sound quality issues  amazon initial told charger doesn t come in box and when i challenged it they asked reimburse the cord amount  but i requested a replacement  after some days they called me and informed that they dont take responsibility of missing items  and 10 day replacement policy they dont follow  you can read the email conversation attached  here where i mentioned every thing  i have the call recordings as well  at last they denied the phone replacement and even to provide the missing cord  for any damage or quality issues they said amazon is not responsible ',\n",
       " 'awesome phone  nice upgrade from iphone s to iphone 11  love this beautiful phone ',\n",
       " 'the iphone design is good and the camera quality is awesome  you can also take pictures in wide angles and the image quality is awesome phone got delivered at am on th september  i pre order it on th september at am in the morning   i got my phone before the delivery date with nice and secured packaging the overall look of the phone is premium and face unlocking is fast  i grabbed this phone with hdfc k instant discount offer at just k  1 gb variant  cons 1  the phone is great but if you use  in the box  accessories like  earpods with lighting connector   then you might feel a little pain in your ears   the phone comes with w charger which charge your phone slowly  i recommend you to prefer using 1w charger well  i ve never tried the iphone before and i m using this for the first time  yes  i m already using other apple products like macbook air   pro  but the product is great and i m just lovin it ',\n",
       " 'my phone is producing too much heat even didn t put sim   never used more than half an hour and it s producing too much heat   totally disappointed with amazon  now they are saying to go icare services  after calling to customer care several times  amazon can t do anything for this   worst experience with amazon  no one would like to repair new phone   better go for shop to buy apple products  ',\n",
       " 'bought the mobile from appario retail ltd  mobile is heating up within seconds and also camera modes aren t working properly  particularly in portrait mode  the stage light and mono options aren t working properly   i raised the same to apple customer care they confirmed that its not software issue  but the amazon customer care told me that they need a job card and report from apple service center  the nearest service center is located at 10km from my place  imagine the amount of strain and how much its going to cost  before you buy anything from this seller just google it and u can find numerous complaints on this seller  what ever they sell u will find defective products only  there is a thread on this sellers dubious deals in quora  please be safe and don t regret after ',\n",
       " 'defective product got heat up within  minutes of starting  need to return  fastvery very bad experience',\n",
       " 'the product i got was defective   the face id is not working and the back camera is also not working  there is a lot of hassle to get it exchanged  the apple service centre is also not of much help as the product is from amazon  please buy phones from apple store to get the right product  ']"
      ]
     },
     "execution_count": 513,
     "metadata": {},
     "output_type": "execute_result"
    }
   ],
   "source": [
    "review_list"
   ]
  },
  {
   "cell_type": "code",
   "execution_count": 514,
   "metadata": {},
   "outputs": [],
   "source": [
    "from sklearn.feature_extraction.text import CountVectorizer\n",
    "\n",
    "cv = CountVectorizer(binary=True) #creates a count list of all the words used multiple times to guage the sentimental\n",
    "#inclination in the texts/opinions/reviews. \n",
    "cv.fit(train_texts)\n",
    "X = cv.transform(train_texts)\n",
    "X_test = cv.transform(test_texts)"
   ]
  },
  {
   "cell_type": "code",
   "execution_count": 517,
   "metadata": {},
   "outputs": [
    {
     "name": "stdout",
     "output_type": "stream",
     "text": [
      "Accuracy for C=0.000625: 0.7153739612188366\n"
     ]
    }
   ],
   "source": [
    "from sklearn.linear_model import LogisticRegression\n",
    "from sklearn.metrics import accuracy_score\n",
    "from sklearn.model_selection import train_test_split\n",
    "\n",
    "\n",
    "X_train, X_val, y_train, y_val = train_test_split(\n",
    "    X, train_labels, train_size = 0.75  #the usual 3:1 ratio for training and testing data split:\n",
    ")\n",
    "\n",
    "for c in [0.000625]: #a tested c = 1/lambda value for reducing over fitting. \n",
    "    \n",
    "    lr = LogisticRegression(C=c)\n",
    "    lr.fit(X_train, y_train)\n",
    "    print (\"Accuracy for C=%s: %s\" \n",
    "           % (c, accuracy_score(y_val, lr.predict(X_val))))"
   ]
  },
  {
   "cell_type": "code",
   "execution_count": 518,
   "metadata": {},
   "outputs": [],
   "source": [
    "#now let's try and analyze the amazon reviews for \"Apple iPhone 11\""
   ]
  },
  {
   "cell_type": "code",
   "execution_count": 519,
   "metadata": {},
   "outputs": [],
   "source": [
    "X_target = cv.transform(review_list)"
   ]
  },
  {
   "cell_type": "code",
   "execution_count": 520,
   "metadata": {},
   "outputs": [],
   "source": [
    "y_pred = lr.predict(X_target)"
   ]
  },
  {
   "cell_type": "code",
   "execution_count": 521,
   "metadata": {},
   "outputs": [
    {
     "data": {
      "text/plain": [
       "array([1, 1, 1, 1, 1, 1, 1, 1])"
      ]
     },
     "execution_count": 521,
     "metadata": {},
     "output_type": "execute_result"
    }
   ],
   "source": [
    "y_pred"
   ]
  },
  {
   "cell_type": "code",
   "execution_count": 522,
   "metadata": {},
   "outputs": [
    {
     "data": {
      "text/plain": [
       "['may be my first negative review about the product   amazon both  i was much elated to receive the iphone 11 so fast  next day of dispatch i e   0 1  but the thing i got started heating up every now and then  contacted applecare  just to be consoled that it s quite normal  as it continued  tried to return the product by speaking to amazon customer support but in vain  some body called me back to convey that only apple will decide which one to take back  why is then amazon took up the sacred duty of selling such an item which they can t exchange  have no control   the product developed new issues like proximity sensor malfunction and last but most importantly loosing mobile network every other minute even had two software updates   it was handed over to the apple asp as the return window closed on 10 10 1  what use it was for    and diagnosed as having issues and has further been sent to apple repair facility at bengaluru  so i m here w out my first iphone after using it suffering for    just a little over  weeks and the credit goes to amazon    bravo  keep it up amazon ',\n",
       " 'please do not buy expensive product like iphone from amazon  i had very bad exp  the charger cord was missing and had sound quality issues  amazon initial told charger doesn t come in box and when i challenged it they asked reimburse the cord amount  but i requested a replacement  after some days they called me and informed that they dont take responsibility of missing items  and 10 day replacement policy they dont follow  you can read the email conversation attached  here where i mentioned every thing  i have the call recordings as well  at last they denied the phone replacement and even to provide the missing cord  for any damage or quality issues they said amazon is not responsible ',\n",
       " 'awesome phone  nice upgrade from iphone s to iphone 11  love this beautiful phone ',\n",
       " 'the iphone design is good and the camera quality is awesome  you can also take pictures in wide angles and the image quality is awesome phone got delivered at am on th september  i pre order it on th september at am in the morning   i got my phone before the delivery date with nice and secured packaging the overall look of the phone is premium and face unlocking is fast  i grabbed this phone with hdfc k instant discount offer at just k  1 gb variant  cons 1  the phone is great but if you use  in the box  accessories like  earpods with lighting connector   then you might feel a little pain in your ears   the phone comes with w charger which charge your phone slowly  i recommend you to prefer using 1w charger well  i ve never tried the iphone before and i m using this for the first time  yes  i m already using other apple products like macbook air   pro  but the product is great and i m just lovin it ',\n",
       " 'my phone is producing too much heat even didn t put sim   never used more than half an hour and it s producing too much heat   totally disappointed with amazon  now they are saying to go icare services  after calling to customer care several times  amazon can t do anything for this   worst experience with amazon  no one would like to repair new phone   better go for shop to buy apple products  ',\n",
       " 'bought the mobile from appario retail ltd  mobile is heating up within seconds and also camera modes aren t working properly  particularly in portrait mode  the stage light and mono options aren t working properly   i raised the same to apple customer care they confirmed that its not software issue  but the amazon customer care told me that they need a job card and report from apple service center  the nearest service center is located at 10km from my place  imagine the amount of strain and how much its going to cost  before you buy anything from this seller just google it and u can find numerous complaints on this seller  what ever they sell u will find defective products only  there is a thread on this sellers dubious deals in quora  please be safe and don t regret after ',\n",
       " 'defective product got heat up within  minutes of starting  need to return  fastvery very bad experience',\n",
       " 'the product i got was defective   the face id is not working and the back camera is also not working  there is a lot of hassle to get it exchanged  the apple service centre is also not of much help as the product is from amazon  please buy phones from apple store to get the right product  ']"
      ]
     },
     "execution_count": 522,
     "metadata": {},
     "output_type": "execute_result"
    }
   ],
   "source": [
    "review_list"
   ]
  },
  {
   "cell_type": "code",
   "execution_count": null,
   "metadata": {},
   "outputs": [],
   "source": [
    "#so just two out of 8 predictions seem to be inaccurate, which says a lot about the model and the data set. \n",
    "\n",
    "# 1's are for negative and 0's are for positive. \n",
    "\n",
    "# which explains the model is 75% accurate. \n"
   ]
  }
 ],
 "metadata": {
  "kernelspec": {
   "display_name": "Python 3",
   "language": "python",
   "name": "python3"
  },
  "language_info": {
   "codemirror_mode": {
    "name": "ipython",
    "version": 3
   },
   "file_extension": ".py",
   "mimetype": "text/x-python",
   "name": "python",
   "nbconvert_exporter": "python",
   "pygments_lexer": "ipython3",
   "version": "3.8.3"
  }
 },
 "nbformat": 4,
 "nbformat_minor": 4
}
